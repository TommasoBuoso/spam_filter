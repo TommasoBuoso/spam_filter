{
  "nbformat": 4,
  "nbformat_minor": 0,
  "metadata": {
    "colab": {
      "name": "AI_assignment2.ipynb",
      "provenance": [],
      "collapsed_sections": [
        "4gYcecG1GISO",
        "2ysGWk4JGLau",
        "ouCJ1qsRGPuR",
        "KeTvALafGSwe",
        "dqyrd_nSGFhK",
        "Esh6kyy8GDnD",
        "zjUIQrPTF8yY"
      ],
      "include_colab_link": true
    },
    "kernelspec": {
      "name": "python3",
      "display_name": "Python 3"
    },
    "language_info": {
      "name": "python"
    }
  },
  "cells": [
    {
      "cell_type": "markdown",
      "metadata": {
        "id": "view-in-github",
        "colab_type": "text"
      },
      "source": [
        "<a href=\"https://colab.research.google.com/github/TommasoBuoso/spam_filter/blob/main/AI_assignment2.ipynb\" target=\"_parent\"><img src=\"https://colab.research.google.com/assets/colab-badge.svg\" alt=\"Open In Colab\"/></a>"
      ]
    },
    {
      "cell_type": "markdown",
      "metadata": {
        "id": "aaR49SfjX47q"
      },
      "source": [
        "# Assignment 2"
      ]
    },
    {
      "cell_type": "code",
      "metadata": {
        "colab": {
          "base_uri": "https://localhost:8080/"
        },
        "id": "zcLRmI5e8DCh",
        "outputId": "8119519a-33a6-4927-eff4-757f282cadd8"
      },
      "source": [
        "from google.colab import drive\n",
        "drive.mount('/gdrive')"
      ],
      "execution_count": 1,
      "outputs": [
        {
          "output_type": "stream",
          "text": [
            "Mounted at /gdrive\n"
          ],
          "name": "stdout"
        }
      ]
    },
    {
      "cell_type": "code",
      "metadata": {
        "id": "QzykkTrxuu6T",
        "colab": {
          "base_uri": "https://localhost:8080/"
        },
        "outputId": "b089cb81-fa04-49f9-d7d2-c9a40b143ed4"
      },
      "source": [
        "!pip install sklearn\n",
        "import numpy as np\n",
        "import copy\n",
        "import math\n",
        "spambase = np.genfromtxt('/gdrive/My Drive/IA1/spambase/spambase.data', delimiter=',')\n",
        "label = copy.deepcopy([i[-1] for i in spambase])\n",
        "spambase = np.delete(spambase, np.s_[-4:], 1)"
      ],
      "execution_count": 2,
      "outputs": [
        {
          "output_type": "stream",
          "text": [
            "Requirement already satisfied: sklearn in /usr/local/lib/python3.7/dist-packages (0.0)\n",
            "Requirement already satisfied: scikit-learn in /usr/local/lib/python3.7/dist-packages (from sklearn) (0.22.2.post1)\n",
            "Requirement already satisfied: numpy>=1.11.0 in /usr/local/lib/python3.7/dist-packages (from scikit-learn->sklearn) (1.19.5)\n",
            "Requirement already satisfied: joblib>=0.11 in /usr/local/lib/python3.7/dist-packages (from scikit-learn->sklearn) (1.0.1)\n",
            "Requirement already satisfied: scipy>=0.17.0 in /usr/local/lib/python3.7/dist-packages (from scikit-learn->sklearn) (1.4.1)\n"
          ],
          "name": "stdout"
        }
      ]
    },
    {
      "cell_type": "markdown",
      "metadata": {
        "id": "zEenNP5r7i6A"
      },
      "source": [
        "### TF-IDF COMPUTATION"
      ]
    },
    {
      "cell_type": "code",
      "metadata": {
        "id": "U19_5UwB863k",
        "colab": {
          "base_uri": "https://localhost:8080/"
        },
        "outputId": "10d3ae9d-8825-42f3-c9c3-3ef8e5f547f3"
      },
      "source": [
        "N = len(spambase)\n",
        "\n",
        "df = np.zeros(len(spambase[0]))\n",
        "for i in spambase:\n",
        "  df[i > 0] += 1 \n",
        "\n",
        "w = copy.deepcopy(spambase)\n",
        "for j in range(len(spambase)):\n",
        "  for i in range(len(spambase[j])):\n",
        "    w[j][i] = spambase[j][i] * np.log10(N/df[i])\n",
        "print(w[0])"
      ],
      "execution_count": 3,
      "outputs": [
        {
          "output_type": "stream",
          "text": [
            "[0.         0.45412857 0.24758416 0.         0.13449946 0.\n",
            " 0.         0.         0.         0.         0.         0.18971474\n",
            " 0.         0.         0.         0.18210574 0.         0.83418479\n",
            " 0.29732281 0.         0.26735887 0.         0.         0.\n",
            " 0.         0.         0.         0.         0.         0.\n",
            " 0.         0.         0.         0.         0.         0.\n",
            " 0.         0.         0.         0.         0.         0.\n",
            " 0.         0.         0.         0.         0.         0.\n",
            " 0.         0.         0.         0.24050181 0.         0.        ]\n"
          ],
          "name": "stdout"
        }
      ]
    },
    {
      "cell_type": "code",
      "metadata": {
        "colab": {
          "base_uri": "https://localhost:8080/"
        },
        "id": "TebmH_2LytTP",
        "outputId": "cd77861f-b6ec-43e0-cfab-2e2d0ac97c44"
      },
      "source": [
        "True in np.isnan(w)"
      ],
      "execution_count": 7,
      "outputs": [
        {
          "output_type": "execute_result",
          "data": {
            "text/plain": [
              "False"
            ]
          },
          "metadata": {
            "tags": []
          },
          "execution_count": 7
        }
      ]
    },
    {
      "cell_type": "code",
      "metadata": {
        "colab": {
          "base_uri": "https://localhost:8080/"
        },
        "id": "3F_4n8oagd93",
        "outputId": "94d64dd6-e8d6-441c-c8a3-a73083d45039"
      },
      "source": [
        "w_angular = [i / np.sum(i ** 2) for i in w] #angular kernel if combined with linear\n",
        "w_angular = np.nan_to_num(w_angular)"
      ],
      "execution_count": 8,
      "outputs": [
        {
          "output_type": "stream",
          "text": [
            "/usr/local/lib/python3.7/dist-packages/ipykernel_launcher.py:1: RuntimeWarning: invalid value encountered in true_divide\n",
            "  \"\"\"Entry point for launching an IPython kernel.\n"
          ],
          "name": "stderr"
        }
      ]
    },
    {
      "cell_type": "markdown",
      "metadata": {
        "id": "4gYcecG1GISO"
      },
      "source": [
        "# SVM"
      ]
    },
    {
      "cell_type": "code",
      "metadata": {
        "id": "eJdo4aII7yt4"
      },
      "source": [
        "from sklearn import svm, model_selection, metrics\n",
        "\n",
        "X_train, X_test, y_train, y_test = model_selection.train_test_split(w, label, test_size = 0.33, random_state = 2)"
      ],
      "execution_count": null,
      "outputs": []
    },
    {
      "cell_type": "markdown",
      "metadata": {
        "id": "2ysGWk4JGLau"
      },
      "source": [
        "## Linear"
      ]
    },
    {
      "cell_type": "code",
      "metadata": {
        "id": "qHrsGLtB-T6J"
      },
      "source": [
        "clf = svm.SVC(kernel = \"linear\")\n",
        "clf.fit(X_train, y_train)\n",
        "y_pred = clf.predict(X_test)"
      ],
      "execution_count": null,
      "outputs": []
    },
    {
      "cell_type": "code",
      "metadata": {
        "colab": {
          "base_uri": "https://localhost:8080/"
        },
        "id": "oB7Voff3_uYw",
        "outputId": "4e92b319-0ed5-4ae0-d717-306a64ad8cdc"
      },
      "source": [
        "print(metrics.confusion_matrix(y_test, y_pred))"
      ],
      "execution_count": null,
      "outputs": [
        {
          "output_type": "stream",
          "text": [
            "[[855  38]\n",
            " [ 79 547]]\n"
          ],
          "name": "stdout"
        }
      ]
    },
    {
      "cell_type": "code",
      "metadata": {
        "colab": {
          "base_uri": "https://localhost:8080/"
        },
        "id": "pl02d_ut_wQd",
        "outputId": "e284c421-c701-44dc-8e9b-60b0864cf7b8"
      },
      "source": [
        "print(metrics.classification_report(y_test, y_pred))"
      ],
      "execution_count": null,
      "outputs": [
        {
          "output_type": "stream",
          "text": [
            "              precision    recall  f1-score   support\n",
            "\n",
            "         0.0       0.92      0.96      0.94       893\n",
            "         1.0       0.94      0.87      0.90       626\n",
            "\n",
            "    accuracy                           0.92      1519\n",
            "   macro avg       0.93      0.92      0.92      1519\n",
            "weighted avg       0.92      0.92      0.92      1519\n",
            "\n"
          ],
          "name": "stdout"
        }
      ]
    },
    {
      "cell_type": "code",
      "metadata": {
        "colab": {
          "base_uri": "https://localhost:8080/"
        },
        "id": "zKS0-5kwBIQv",
        "outputId": "a9b979b1-f34b-4b86-c77a-b542aabf22f7"
      },
      "source": [
        "clf = svm.SVC(kernel = \"linear\")\n",
        "np.mean(model_selection.cross_val_score(clf, w, label, cv = 10))"
      ],
      "execution_count": null,
      "outputs": [
        {
          "output_type": "execute_result",
          "data": {
            "text/plain": [
              "0.9095817221541074"
            ]
          },
          "metadata": {
            "tags": []
          },
          "execution_count": 69
        }
      ]
    },
    {
      "cell_type": "code",
      "metadata": {
        "colab": {
          "base_uri": "https://localhost:8080/"
        },
        "id": "WcD-Nn-oO2G5",
        "outputId": "3537513c-664e-4f9f-8e96-2893440bc83a"
      },
      "source": [
        "#Model with angular informations\n",
        "from sklearn import svm, model_selection, metrics\n",
        "\n",
        "X_train, X_test, y_train, y_test = model_selection.train_test_split(w_angular, label, test_size = 0.33, random_state = 2)\n",
        "clf = svm.SVC(kernel = \"linear\")\n",
        "clf.fit(X_train, y_train)\n",
        "y_pred = clf.predict(X_test)\n",
        "np.mean(model_selection.cross_val_score(clf, w_angular, label, cv = 10))"
      ],
      "execution_count": 9,
      "outputs": [
        {
          "output_type": "execute_result",
          "data": {
            "text/plain": [
              "0.9013246251061021"
            ]
          },
          "metadata": {
            "tags": []
          },
          "execution_count": 9
        }
      ]
    },
    {
      "cell_type": "markdown",
      "metadata": {
        "id": "ouCJ1qsRGPuR"
      },
      "source": [
        "## Polynomial of degree 2"
      ]
    },
    {
      "cell_type": "code",
      "metadata": {
        "id": "_GDn2B7DAWN0"
      },
      "source": [
        "clf = svm.SVC(kernel = \"poly\", degree=2)\n",
        "clf.fit(X_train, y_train)\n",
        "y_pred = clf.predict(X_test)"
      ],
      "execution_count": null,
      "outputs": []
    },
    {
      "cell_type": "code",
      "metadata": {
        "id": "JpfQbBKqAWN2",
        "colab": {
          "base_uri": "https://localhost:8080/"
        },
        "outputId": "8c5a463f-117c-4e83-d030-32f0c88283c7"
      },
      "source": [
        "print(metrics.confusion_matrix(y_test, y_pred))"
      ],
      "execution_count": null,
      "outputs": [
        {
          "output_type": "stream",
          "text": [
            "[[877  16]\n",
            " [315 311]]\n"
          ],
          "name": "stdout"
        }
      ]
    },
    {
      "cell_type": "code",
      "metadata": {
        "id": "6TpQrOlDAWN2",
        "colab": {
          "base_uri": "https://localhost:8080/"
        },
        "outputId": "6229ee7c-8c3f-4ba9-b8e6-a8c15eb5a510"
      },
      "source": [
        "print(metrics.classification_report(y_test, y_pred))"
      ],
      "execution_count": null,
      "outputs": [
        {
          "output_type": "stream",
          "text": [
            "              precision    recall  f1-score   support\n",
            "\n",
            "         0.0       0.74      0.98      0.84       893\n",
            "         1.0       0.95      0.50      0.65       626\n",
            "\n",
            "    accuracy                           0.78      1519\n",
            "   macro avg       0.84      0.74      0.75      1519\n",
            "weighted avg       0.82      0.78      0.76      1519\n",
            "\n"
          ],
          "name": "stdout"
        }
      ]
    },
    {
      "cell_type": "code",
      "metadata": {
        "id": "mN-fmZwUBmPv",
        "colab": {
          "base_uri": "https://localhost:8080/"
        },
        "outputId": "dba3264a-8e33-493d-9257-f65c30011441"
      },
      "source": [
        "clf = svm.SVC(kernel = \"poly\", degree=2)\n",
        "np.mean(model_selection.cross_val_score(clf, w, label, cv = 10))"
      ],
      "execution_count": null,
      "outputs": [
        {
          "output_type": "execute_result",
          "data": {
            "text/plain": [
              "0.8078756012449307"
            ]
          },
          "metadata": {
            "tags": []
          },
          "execution_count": 70
        }
      ]
    },
    {
      "cell_type": "markdown",
      "metadata": {
        "id": "KeTvALafGSwe"
      },
      "source": [
        "## RBF"
      ]
    },
    {
      "cell_type": "code",
      "metadata": {
        "id": "DkIbXjtRAIJR"
      },
      "source": [
        "clf = svm.SVC(kernel = \"rbf\")\n",
        "clf.fit(X_train, y_train)\n",
        "y_pred = clf.predict(X_test)"
      ],
      "execution_count": null,
      "outputs": []
    },
    {
      "cell_type": "code",
      "metadata": {
        "id": "vdTide6hAIJS",
        "colab": {
          "base_uri": "https://localhost:8080/"
        },
        "outputId": "53a7c419-6312-4f4f-bdc6-4897c7d15660"
      },
      "source": [
        "print(metrics.confusion_matrix(y_test, y_pred))"
      ],
      "execution_count": null,
      "outputs": [
        {
          "output_type": "stream",
          "text": [
            "[[855  38]\n",
            " [ 98 528]]\n"
          ],
          "name": "stdout"
        }
      ]
    },
    {
      "cell_type": "code",
      "metadata": {
        "id": "IYaqkJmcAIJS",
        "colab": {
          "base_uri": "https://localhost:8080/"
        },
        "outputId": "3385f19d-9eb6-479d-884d-cc62e56a365d"
      },
      "source": [
        "print(metrics.classification_report(y_test, y_pred))"
      ],
      "execution_count": null,
      "outputs": [
        {
          "output_type": "stream",
          "text": [
            "              precision    recall  f1-score   support\n",
            "\n",
            "         0.0       0.90      0.96      0.93       893\n",
            "         1.0       0.93      0.84      0.89       626\n",
            "\n",
            "    accuracy                           0.91      1519\n",
            "   macro avg       0.92      0.90      0.91      1519\n",
            "weighted avg       0.91      0.91      0.91      1519\n",
            "\n"
          ],
          "name": "stdout"
        }
      ]
    },
    {
      "cell_type": "code",
      "metadata": {
        "id": "0Z4iHV2jBnq-",
        "colab": {
          "base_uri": "https://localhost:8080/"
        },
        "outputId": "c498ca21-cc31-415e-8167-f412f86f8955"
      },
      "source": [
        "clf = svm.SVC(kernel = \"rbf\")\n",
        "np.mean(model_selection.cross_val_score(clf, w, label, cv = 10))"
      ],
      "execution_count": null,
      "outputs": [
        {
          "output_type": "execute_result",
          "data": {
            "text/plain": [
              "0.9152324813731962"
            ]
          },
          "metadata": {
            "tags": []
          },
          "execution_count": 142
        }
      ]
    },
    {
      "cell_type": "code",
      "metadata": {
        "colab": {
          "base_uri": "https://localhost:8080/"
        },
        "id": "9XhpFZNRC1Z6",
        "outputId": "24bae6f7-8825-46ec-ccc4-b28df59fc39e"
      },
      "source": [
        "#Exploring C parameter as explained in https://scikit-learn.org/stable/modules/svm.html#parameters-of-the-rbf-kernel\n",
        "#res = []\n",
        "#for i in range(1, 200):\n",
        "#  clf = svm.SVC(kernel = \"rbf\", C = i) #gamma leaved to default, because we will perform cross validation\n",
        "#  res.append((i, np.mean(model_selection.cross_val_score(clf, w, label, cv = 10))))\n",
        "\n",
        "#res.sort(key=lambda tup: tup[1])\n",
        "#print('Best score:', res[-1][1], ', with best parameter C:', res[-1][0])\n",
        "#Best score: 0.9317504479864189 , with best parameter C: 170"
      ],
      "execution_count": null,
      "outputs": [
        {
          "output_type": "stream",
          "text": [
            "Best score: 0.9317504479864189 , with best parameter C: 170\n"
          ],
          "name": "stdout"
        }
      ]
    },
    {
      "cell_type": "markdown",
      "metadata": {
        "id": "dqyrd_nSGFhK"
      },
      "source": [
        "# NAIVE BAYES"
      ]
    },
    {
      "cell_type": "code",
      "metadata": {
        "id": "emkzZBj5EE1v"
      },
      "source": [
        "#Computation of alpha, mu and sigma^2\n",
        "def naive_train(X_train, y_train):\n",
        "  alpha = np.zeros(2)\n",
        "  mu = np.zeros((2, len(X_train[0])))\n",
        "  sigma2 = np.zeros((2, len(X_train[0])))\n",
        "\n",
        "  for i in range(len(X_train)):\n",
        "    alpha[ int(y_train[i]) ] += 1\n",
        "    mu[ int(y_train[i]) ][ X_train[i] > 0 ] += 1\n",
        "\n",
        "  alpha = alpha / N\n",
        "\n",
        "  mu[0] = mu[0] / N\n",
        "  mu[1] = mu[1] / N\n",
        "\n",
        "  sigma2[0] = mu[0] - mu[0]**2\n",
        "  sigma2[1] = mu[1] - mu[1]**2\n",
        "  \n",
        "  return alpha, mu, sigma2"
      ],
      "execution_count": null,
      "outputs": []
    },
    {
      "cell_type": "code",
      "metadata": {
        "id": "5g7TLUzmIhHl"
      },
      "source": [
        "def guassian(test_row, mu, sigma2, k):\n",
        "  res = 1\n",
        "\n",
        "  for i in range(len(test_row)):\n",
        "    res *= ( 2*math.pi*sigma2[k][i] ) ** (-1/2) * math.exp(-( 1 / (2*sigma2[k][i]) ) * (  int(test_row[i] > 0) - mu[k][i]) ** 2 )\n",
        "    \n",
        "  return res\n",
        "\n",
        "def naive_bayes_clf(X_test, mu, sigma2, alpha):\n",
        "  y_pred = []\n",
        "\n",
        "  for row in X_test:\n",
        "    res = ( guassian(row, mu, sigma2, 1) * alpha[1] ) / ( ( guassian(row, mu, sigma2, 1) * alpha[1] ) + ( guassian(row, mu, sigma2, 0) * alpha[0] ) )\n",
        "    y_pred.append( int( res > 0.5 ) )\n",
        "\n",
        "  return y_pred"
      ],
      "execution_count": null,
      "outputs": []
    },
    {
      "cell_type": "code",
      "metadata": {
        "id": "0U-ghz-JNUoL"
      },
      "source": [
        "alpha, mu, sigma2 = naive_train(X_train, y_train)\n",
        "y_pred = naive_bayes_clf(X_test, mu, sigma2, alpha)"
      ],
      "execution_count": null,
      "outputs": []
    },
    {
      "cell_type": "code",
      "metadata": {
        "colab": {
          "base_uri": "https://localhost:8080/"
        },
        "id": "R9jvDDFAQukB",
        "outputId": "254641d3-5441-449a-84b4-56e355c257c4"
      },
      "source": [
        "print(metrics.confusion_matrix(y_test, y_pred))"
      ],
      "execution_count": null,
      "outputs": [
        {
          "output_type": "stream",
          "text": [
            "[[693 200]\n",
            " [ 50 576]]\n"
          ],
          "name": "stdout"
        }
      ]
    },
    {
      "cell_type": "code",
      "metadata": {
        "colab": {
          "base_uri": "https://localhost:8080/"
        },
        "id": "beR41ukNRYnE",
        "outputId": "a56cf7a0-f429-478b-83b8-96b3112c58f5"
      },
      "source": [
        "print(metrics.classification_report(y_test, y_pred))"
      ],
      "execution_count": null,
      "outputs": [
        {
          "output_type": "stream",
          "text": [
            "              precision    recall  f1-score   support\n",
            "\n",
            "         0.0       0.93      0.78      0.85       893\n",
            "         1.0       0.74      0.92      0.82       626\n",
            "\n",
            "    accuracy                           0.84      1519\n",
            "   macro avg       0.84      0.85      0.83      1519\n",
            "weighted avg       0.85      0.84      0.84      1519\n",
            "\n"
          ],
          "name": "stdout"
        }
      ]
    },
    {
      "cell_type": "code",
      "metadata": {
        "colab": {
          "base_uri": "https://localhost:8080/"
        },
        "id": "HIP76BSEXFLJ",
        "outputId": "e6ea9d51-b7b9-4128-a5f1-2bbe16ef0d89"
      },
      "source": [
        "metrics.accuracy_score(y_test, y_pred)"
      ],
      "execution_count": null,
      "outputs": [
        {
          "output_type": "execute_result",
          "data": {
            "text/plain": [
              "0.8354180381830152"
            ]
          },
          "metadata": {
            "tags": []
          },
          "execution_count": 113
        }
      ]
    },
    {
      "cell_type": "code",
      "metadata": {
        "id": "ZovsT6ifKF7f"
      },
      "source": [
        "#Cross validation by hand\n",
        "def cross_val(X, y, cv):\n",
        "  res = []\n",
        "  split_X = np.asarray( np.array_split(X, cv) )\n",
        "  split_y = np.asarray( np.array_split(y, cv) )\n",
        "\n",
        "  for i in range(cv):\n",
        "    X_train =  np.concatenate( np.concatenate( (split_X[:i], split_X[i+1:])) )\n",
        "    y_train =  np.concatenate( np.concatenate( (split_y[:i], split_y[i+1:])) )\n",
        "    X_test = split_X[i]\n",
        "    y_test = split_y[i]\n",
        "\n",
        "    alpha, mu, sigma2 = naive_train(X_train, y_train)\n",
        "    y_pred = naive_bayes_clf(X_test, mu, sigma2, alpha)\n",
        "\n",
        "    res.append(metrics.accuracy_score(y_test, y_pred))\n",
        "  \n",
        "  return np.mean(res)"
      ],
      "execution_count": null,
      "outputs": []
    },
    {
      "cell_type": "code",
      "metadata": {
        "colab": {
          "base_uri": "https://localhost:8080/"
        },
        "id": "a5e0ajKPSlHm",
        "outputId": "7f95545b-613e-40f8-f076-8f7e9e11d6cc"
      },
      "source": [
        "print(cross_val(w, label, 10))"
      ],
      "execution_count": null,
      "outputs": [
        {
          "output_type": "stream",
          "text": [
            "/usr/local/lib/python3.7/dist-packages/numpy/core/_asarray.py:83: VisibleDeprecationWarning: Creating an ndarray from ragged nested sequences (which is a list-or-tuple of lists-or-tuples-or ndarrays with different lengths or shapes) is deprecated. If you meant to do this, you must specify 'dtype=object' when creating the ndarray\n",
            "  return array(a, dtype, copy=False, order=order)\n",
            "/usr/local/lib/python3.7/dist-packages/ipykernel_launcher.py:5: RuntimeWarning: divide by zero encountered in double_scalars\n",
            "  \"\"\"\n",
            "/usr/local/lib/python3.7/dist-packages/ipykernel_launcher.py:5: RuntimeWarning: invalid value encountered in double_scalars\n",
            "  \"\"\"\n"
          ],
          "name": "stderr"
        },
        {
          "output_type": "stream",
          "text": [
            "0.732196548146751\n"
          ],
          "name": "stdout"
        }
      ]
    },
    {
      "cell_type": "code",
      "metadata": {
        "colab": {
          "base_uri": "https://localhost:8080/"
        },
        "id": "MX0bBvsUWz68",
        "outputId": "b0840c74-2d81-4bbc-fd12-46fcdd55769c"
      },
      "source": [
        "#Sklearn classifier to compare results\n",
        "from sklearn.naive_bayes import GaussianNB\n",
        "\n",
        "clf = GaussianNB()\n",
        "clf.fit(X_train, y_train)\n",
        "\n",
        "y_pred = clf.predict(X_test)\n",
        "print(metrics.confusion_matrix(y_test, y_pred))"
      ],
      "execution_count": null,
      "outputs": [
        {
          "output_type": "stream",
          "text": [
            "[[642 251]\n",
            " [ 28 598]]\n"
          ],
          "name": "stdout"
        }
      ]
    },
    {
      "cell_type": "code",
      "metadata": {
        "colab": {
          "base_uri": "https://localhost:8080/"
        },
        "id": "qYFIv4WSXB_p",
        "outputId": "abdd207a-bd44-47d3-80ec-99ff9de0e117"
      },
      "source": [
        "print(metrics.classification_report(y_test, y_pred))"
      ],
      "execution_count": null,
      "outputs": [
        {
          "output_type": "stream",
          "text": [
            "              precision    recall  f1-score   support\n",
            "\n",
            "         0.0       0.96      0.72      0.82       893\n",
            "         1.0       0.70      0.96      0.81       626\n",
            "\n",
            "    accuracy                           0.82      1519\n",
            "   macro avg       0.83      0.84      0.82      1519\n",
            "weighted avg       0.85      0.82      0.82      1519\n",
            "\n"
          ],
          "name": "stdout"
        }
      ]
    },
    {
      "cell_type": "code",
      "metadata": {
        "colab": {
          "base_uri": "https://localhost:8080/"
        },
        "id": "34LpfL1HYyv_",
        "outputId": "c8d7ad76-8cef-4563-9a4a-17cde7cdf668"
      },
      "source": [
        "clf = GaussianNB()\n",
        "np.mean(model_selection.cross_val_score(clf, w, label, cv = 10))"
      ],
      "execution_count": null,
      "outputs": [
        {
          "output_type": "execute_result",
          "data": {
            "text/plain": [
              "0.8150348957842122"
            ]
          },
          "metadata": {
            "tags": []
          },
          "execution_count": 145
        }
      ]
    },
    {
      "cell_type": "markdown",
      "metadata": {
        "id": "BJpmtlXRGaJw"
      },
      "source": [
        "# KNN"
      ]
    },
    {
      "cell_type": "markdown",
      "metadata": {
        "id": "Esh6kyy8GDnD"
      },
      "source": [
        "## OUR KNN"
      ]
    },
    {
      "cell_type": "code",
      "metadata": {
        "id": "S9GxjmuQ-rU1"
      },
      "source": [
        "from sklearn import neighbors\n",
        "\n",
        "clf = neighbors.KNeighborsClassifier(5)\n",
        "clf.fit(X_train, y_train)\n",
        "\n",
        "y_pred = clf.predict(X_test)"
      ],
      "execution_count": null,
      "outputs": []
    },
    {
      "cell_type": "code",
      "metadata": {
        "colab": {
          "base_uri": "https://localhost:8080/"
        },
        "id": "JuyTjr40AJ0n",
        "outputId": "a93b5b8d-d6d3-492d-e533-a1c474d897a5"
      },
      "source": [
        "print(metrics.confusion_matrix(y_test, y_pred))"
      ],
      "execution_count": null,
      "outputs": [
        {
          "output_type": "stream",
          "text": [
            "[[845  48]\n",
            " [ 79 547]]\n"
          ],
          "name": "stdout"
        }
      ]
    },
    {
      "cell_type": "code",
      "metadata": {
        "colab": {
          "base_uri": "https://localhost:8080/"
        },
        "id": "DWQvX2bq_ouQ",
        "outputId": "19d26d33-d3de-4d6d-8812-b0b2a700a4ef"
      },
      "source": [
        "print(metrics.classification_report(y_test, y_pred))"
      ],
      "execution_count": null,
      "outputs": [
        {
          "output_type": "stream",
          "text": [
            "              precision    recall  f1-score   support\n",
            "\n",
            "         0.0       0.91      0.95      0.93       893\n",
            "         1.0       0.92      0.87      0.90       626\n",
            "\n",
            "    accuracy                           0.92      1519\n",
            "   macro avg       0.92      0.91      0.91      1519\n",
            "weighted avg       0.92      0.92      0.92      1519\n",
            "\n"
          ],
          "name": "stdout"
        }
      ]
    },
    {
      "cell_type": "code",
      "metadata": {
        "colab": {
          "base_uri": "https://localhost:8080/"
        },
        "id": "kEzRVfWEBHuO",
        "outputId": "f147fe6b-cb03-4fee-be30-578cd3546659"
      },
      "source": [
        "clf = neighbors.KNeighborsClassifier(5)\n",
        "np.mean(model_selection.cross_val_score(clf, w, label, cv = 10))"
      ],
      "execution_count": null,
      "outputs": [
        {
          "output_type": "execute_result",
          "data": {
            "text/plain": [
              "0.8861062906724513"
            ]
          },
          "metadata": {
            "tags": []
          },
          "execution_count": 12
        }
      ]
    },
    {
      "cell_type": "markdown",
      "metadata": {
        "id": "zjUIQrPTF8yY"
      },
      "source": [
        "## KNN FROM INTERNET"
      ]
    },
    {
      "cell_type": "code",
      "metadata": {
        "id": "tP0zNWzSACEm"
      },
      "source": [
        "from math import sqrt\n",
        "\n",
        "# calculate the Euclidean distance between two vectors\n",
        "def euclidean_distance(row1, row2):\n",
        "\tdistance = 0.0\n",
        "\tfor i in range(len(row1)-1):\n",
        "\t\tdistance += (row1[i] - row2[i])**2\n",
        "\treturn sqrt(distance)\n",
        " \n",
        "# Locate the most similar neighbors\n",
        "def get_neighbors(train, test_row, num_neighbors):\n",
        "\tdistances = []\n",
        "\tfor train_row in train:\n",
        "\t\tdist = euclidean_distance(test_row, train_row)\n",
        "\t\tdistances.append((train_row, dist))\n",
        "\tdistances.sort(key=lambda tup: tup[1])\n",
        "\tneighbors = []\n",
        "\tfor i in range(num_neighbors):\n",
        "\t\tneighbors.append(distances[i][0])\n",
        "\treturn neighbors\n",
        "\n",
        "# Make a classification prediction with neighbors\n",
        "def predict_classification(train, test_row, num_neighbors):\n",
        "  neighbors = get_neighbors(train, test_row, num_neighbors)\n",
        "  output_values = [row[-1] for row in neighbors]\n",
        "  prediction = max(set(output_values), key=output_values.count)\n",
        "  return prediction\n",
        "\n",
        "def test_kNN(X_train, X_test, y_train, k):\n",
        "  y_pred = []\n",
        "  train = np.concatenate((np.asarray(X_train), np.asarray([y_train]).T), axis=1)\n",
        "  for test_row in X_test:\n",
        "    y_pred.append(predict_classification(train, test_row, k))\n",
        "  \n",
        "  return y_pred"
      ],
      "execution_count": null,
      "outputs": []
    },
    {
      "cell_type": "code",
      "metadata": {
        "colab": {
          "base_uri": "https://localhost:8080/"
        },
        "id": "dIDtcKdfACEo",
        "outputId": "a693498b-e669-40e1-dd19-4fd1d0c47c92"
      },
      "source": [
        "y_pred = test_kNN(X_train, X_test, y_train, 5)\n",
        "\n",
        "print(metrics.confusion_matrix(y_test, y_pred))"
      ],
      "execution_count": null,
      "outputs": [
        {
          "output_type": "stream",
          "text": [
            "[[837  49]\n",
            " [ 71 562]]\n"
          ],
          "name": "stdout"
        }
      ]
    },
    {
      "cell_type": "code",
      "metadata": {
        "colab": {
          "base_uri": "https://localhost:8080/"
        },
        "id": "VsSXbg9jACEo",
        "outputId": "4f7f953f-903c-4b0e-8bbd-0c0be446fcda"
      },
      "source": [
        "print(metrics.classification_report(y_test, y_pred))"
      ],
      "execution_count": null,
      "outputs": [
        {
          "output_type": "stream",
          "text": [
            "              precision    recall  f1-score   support\n",
            "\n",
            "         0.0       0.92      0.94      0.93       886\n",
            "         1.0       0.92      0.89      0.90       633\n",
            "\n",
            "    accuracy                           0.92      1519\n",
            "   macro avg       0.92      0.92      0.92      1519\n",
            "weighted avg       0.92      0.92      0.92      1519\n",
            "\n"
          ],
          "name": "stdout"
        }
      ]
    }
  ]
}