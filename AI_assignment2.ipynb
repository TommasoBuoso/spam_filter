{
  "nbformat": 4,
  "nbformat_minor": 0,
  "metadata": {
    "colab": {
      "name": "AI_assignment2.ipynb",
      "provenance": [],
      "collapsed_sections": [
        "zEenNP5r7i6A",
        "2ysGWk4JGLau",
        "ouCJ1qsRGPuR",
        "KeTvALafGSwe",
        "dqyrd_nSGFhK",
        "Esh6kyy8GDnD"
      ],
      "include_colab_link": true
    },
    "kernelspec": {
      "name": "python3",
      "display_name": "Python 3"
    },
    "language_info": {
      "name": "python"
    }
  },
  "cells": [
    {
      "cell_type": "markdown",
      "metadata": {
        "id": "view-in-github",
        "colab_type": "text"
      },
      "source": [
        "<a href=\"https://colab.research.google.com/github/TommasoBuoso/spam_filter/blob/main/AI_assignment2.ipynb\" target=\"_parent\"><img src=\"https://colab.research.google.com/assets/colab-badge.svg\" alt=\"Open In Colab\"/></a>"
      ]
    },
    {
      "cell_type": "markdown",
      "metadata": {
        "id": "aaR49SfjX47q"
      },
      "source": [
        "# Assignment 2"
      ]
    },
    {
      "cell_type": "code",
      "metadata": {
        "colab": {
          "base_uri": "https://localhost:8080/"
        },
        "id": "zcLRmI5e8DCh",
        "outputId": "3a2bc6e0-364c-4df1-89a2-e14843a16b13"
      },
      "source": [
        "from google.colab import drive\n",
        "drive.mount('/gdrive')"
      ],
      "execution_count": 37,
      "outputs": [
        {
          "output_type": "stream",
          "text": [
            "Drive already mounted at /gdrive; to attempt to forcibly remount, call drive.mount(\"/gdrive\", force_remount=True).\n"
          ],
          "name": "stdout"
        }
      ]
    },
    {
      "cell_type": "code",
      "metadata": {
        "id": "QzykkTrxuu6T",
        "colab": {
          "base_uri": "https://localhost:8080/"
        },
        "outputId": "63650ef7-78ac-44cb-ab2b-75b32bdd8f17"
      },
      "source": [
        "!pip install sklearn\n",
        "import numpy as np\n",
        "import copy\n",
        "import math\n",
        "import time\n",
        "spambase = np.genfromtxt('/gdrive/My Drive/IA1/spambase/spambase.data', delimiter=',')\n",
        "label = copy.deepcopy([i[-1] for i in spambase])\n",
        "spambase = np.delete(spambase, np.s_[-4:], 1)"
      ],
      "execution_count": 38,
      "outputs": [
        {
          "output_type": "stream",
          "text": [
            "Requirement already satisfied: sklearn in /usr/local/lib/python3.7/dist-packages (0.0)\n",
            "Requirement already satisfied: scikit-learn in /usr/local/lib/python3.7/dist-packages (from sklearn) (0.22.2.post1)\n",
            "Requirement already satisfied: joblib>=0.11 in /usr/local/lib/python3.7/dist-packages (from scikit-learn->sklearn) (1.0.1)\n",
            "Requirement already satisfied: scipy>=0.17.0 in /usr/local/lib/python3.7/dist-packages (from scikit-learn->sklearn) (1.4.1)\n",
            "Requirement already satisfied: numpy>=1.11.0 in /usr/local/lib/python3.7/dist-packages (from scikit-learn->sklearn) (1.19.5)\n"
          ],
          "name": "stdout"
        }
      ]
    },
    {
      "cell_type": "markdown",
      "metadata": {
        "id": "zEenNP5r7i6A"
      },
      "source": [
        "### TF-IDF COMPUTATION"
      ]
    },
    {
      "cell_type": "code",
      "metadata": {
        "id": "U19_5UwB863k",
        "colab": {
          "base_uri": "https://localhost:8080/"
        },
        "outputId": "c9ece6d8-97e6-4fa9-bc56-530d89f4d582"
      },
      "source": [
        "N = len(spambase)\n",
        "\n",
        "df = np.zeros(len(spambase[0]))\n",
        "for i in spambase:\n",
        "  df[i > 0] += 1 \n",
        "\n",
        "w = copy.deepcopy(spambase)\n",
        "for j in range(len(spambase)):\n",
        "  for i in range(len(spambase[j])):\n",
        "    w[j][i] = spambase[j][i] * np.log10(N/df[i])\n",
        "print(w[0])"
      ],
      "execution_count": 39,
      "outputs": [
        {
          "output_type": "stream",
          "text": [
            "[0.         0.45412857 0.24758416 0.         0.13449946 0.\n",
            " 0.         0.         0.         0.         0.         0.18971474\n",
            " 0.         0.         0.         0.18210574 0.         0.83418479\n",
            " 0.29732281 0.         0.26735887 0.         0.         0.\n",
            " 0.         0.         0.         0.         0.         0.\n",
            " 0.         0.         0.         0.         0.         0.\n",
            " 0.         0.         0.         0.         0.         0.\n",
            " 0.         0.         0.         0.         0.         0.\n",
            " 0.         0.         0.         0.24050181 0.         0.        ]\n"
          ],
          "name": "stdout"
        }
      ]
    },
    {
      "cell_type": "code",
      "metadata": {
        "colab": {
          "base_uri": "https://localhost:8080/"
        },
        "id": "3F_4n8oagd93",
        "outputId": "4a34c571-68c1-4eaa-8f6d-a40293fbb007"
      },
      "source": [
        "w_angular = [i / np.sum(i ** 2) for i in w] #angular kernel if combined with linear\n",
        "w_angular = np.nan_to_num(w_angular)"
      ],
      "execution_count": 40,
      "outputs": [
        {
          "output_type": "stream",
          "text": [
            "/usr/local/lib/python3.7/dist-packages/ipykernel_launcher.py:1: RuntimeWarning: invalid value encountered in true_divide\n",
            "  \"\"\"Entry point for launching an IPython kernel.\n"
          ],
          "name": "stderr"
        }
      ]
    },
    {
      "cell_type": "markdown",
      "metadata": {
        "id": "4gYcecG1GISO"
      },
      "source": [
        "# SVM"
      ]
    },
    {
      "cell_type": "code",
      "metadata": {
        "id": "eJdo4aII7yt4"
      },
      "source": [
        "from sklearn import svm, model_selection, metrics\n",
        "\n",
        "X_train, X_test, y_train, y_test = model_selection.train_test_split(w, label, test_size = 0.33, random_state = 2)"
      ],
      "execution_count": 41,
      "outputs": []
    },
    {
      "cell_type": "markdown",
      "metadata": {
        "id": "2ysGWk4JGLau"
      },
      "source": [
        "## Linear"
      ]
    },
    {
      "cell_type": "code",
      "metadata": {
        "id": "qHrsGLtB-T6J",
        "colab": {
          "base_uri": "https://localhost:8080/"
        },
        "outputId": "838da70e-5353-4875-fc04-00e1f1aaa1eb"
      },
      "source": [
        "clf = svm.SVC(kernel = \"linear\")\n",
        "\n",
        "start_time = time.time()\n",
        "\n",
        "clf.fit(X_train, y_train)\n",
        "y_pred = clf.predict(X_test)\n",
        "\n",
        "print(\"Single model and single prediction time:\", time.time() - start_time,\"seconds\")"
      ],
      "execution_count": 42,
      "outputs": [
        {
          "output_type": "stream",
          "text": [
            "Single model and single prediction time: 0.28281235694885254 seconds\n"
          ],
          "name": "stdout"
        }
      ]
    },
    {
      "cell_type": "code",
      "metadata": {
        "colab": {
          "base_uri": "https://localhost:8080/"
        },
        "id": "oB7Voff3_uYw",
        "outputId": "9aa78713-a626-477b-8ae7-414b13b97cb6"
      },
      "source": [
        "print(metrics.confusion_matrix(y_test, y_pred))"
      ],
      "execution_count": 43,
      "outputs": [
        {
          "output_type": "stream",
          "text": [
            "[[855  38]\n",
            " [ 79 547]]\n"
          ],
          "name": "stdout"
        }
      ]
    },
    {
      "cell_type": "code",
      "metadata": {
        "colab": {
          "base_uri": "https://localhost:8080/"
        },
        "id": "pl02d_ut_wQd",
        "outputId": "2470d4bc-6726-4d75-9371-a9df125a79b4"
      },
      "source": [
        "print(metrics.classification_report(y_test, y_pred))"
      ],
      "execution_count": 44,
      "outputs": [
        {
          "output_type": "stream",
          "text": [
            "              precision    recall  f1-score   support\n",
            "\n",
            "         0.0       0.92      0.96      0.94       893\n",
            "         1.0       0.94      0.87      0.90       626\n",
            "\n",
            "    accuracy                           0.92      1519\n",
            "   macro avg       0.93      0.92      0.92      1519\n",
            "weighted avg       0.92      0.92      0.92      1519\n",
            "\n"
          ],
          "name": "stdout"
        }
      ]
    },
    {
      "cell_type": "code",
      "metadata": {
        "colab": {
          "base_uri": "https://localhost:8080/"
        },
        "id": "zKS0-5kwBIQv",
        "outputId": "5f1db666-4ef7-4b4b-9a73-9a212ba7b91e"
      },
      "source": [
        "clf = svm.SVC(kernel = \"linear\")\n",
        "\n",
        "start_time = time.time()\n",
        "\n",
        "res = np.mean(model_selection.cross_val_score(clf, w, label, cv = 10))\n",
        "\n",
        "print(\"10 way cross validation time:\", time.time() - start_time,\"seconds; Result =\", res)"
      ],
      "execution_count": 45,
      "outputs": [
        {
          "output_type": "stream",
          "text": [
            "10 way cross validation time: 3.899007797241211 seconds; Result = 0.9095817221541074\n"
          ],
          "name": "stdout"
        }
      ]
    },
    {
      "cell_type": "code",
      "metadata": {
        "colab": {
          "base_uri": "https://localhost:8080/"
        },
        "id": "WcD-Nn-oO2G5",
        "outputId": "d5d4b6e1-3901-435d-8e21-8b1a2c0183a9"
      },
      "source": [
        "#Model with angular informations\n",
        "from sklearn import svm, model_selection, metrics\n",
        "\n",
        "X_train, X_test, y_train, y_test = model_selection.train_test_split(w_angular, label, test_size = 0.33, random_state = 2)\n",
        "clf = svm.SVC(kernel = \"linear\")\n",
        "\n",
        "start_time = time.time()\n",
        "\n",
        "clf.fit(X_train, y_train)\n",
        "y_pred = clf.predict(X_test)\n",
        "\n",
        "print(\"Single model and single prediction time:\", time.time() - start_time,\"seconds\")\n",
        "\n",
        "start_time = time.time()\n",
        "\n",
        "res = np.mean(model_selection.cross_val_score(clf, w_angular, label, cv = 10))\n",
        "\n",
        "print(\"10 way cross validation time:\", time.time() - start_time,\"seconds; Result =\", res)"
      ],
      "execution_count": 46,
      "outputs": [
        {
          "output_type": "stream",
          "text": [
            "Single model and single prediction time: 0.3599121570587158 seconds\n",
            "10 way cross validation time: 5.2885565757751465 seconds; Result = 0.9013246251061021\n"
          ],
          "name": "stdout"
        }
      ]
    },
    {
      "cell_type": "markdown",
      "metadata": {
        "id": "ouCJ1qsRGPuR"
      },
      "source": [
        "## Polynomial of degree 2"
      ]
    },
    {
      "cell_type": "code",
      "metadata": {
        "id": "_GDn2B7DAWN0",
        "colab": {
          "base_uri": "https://localhost:8080/"
        },
        "outputId": "1a5a5968-607d-49df-e213-12091083e17e"
      },
      "source": [
        "X_train, X_test, y_train, y_test = model_selection.train_test_split(w, label, test_size = 0.33, random_state = 2)\n",
        "clf = svm.SVC(kernel = \"poly\", degree=2)\n",
        "\n",
        "start_time = time.time()\n",
        "\n",
        "clf.fit(X_train, y_train)\n",
        "y_pred = clf.predict(X_test)\n",
        "\n",
        "print(\"Single model and single prediction time:\", time.time() - start_time,\"seconds\")"
      ],
      "execution_count": 47,
      "outputs": [
        {
          "output_type": "stream",
          "text": [
            "Single model and single prediction time: 0.5807085037231445 seconds\n"
          ],
          "name": "stdout"
        }
      ]
    },
    {
      "cell_type": "code",
      "metadata": {
        "id": "JpfQbBKqAWN2",
        "colab": {
          "base_uri": "https://localhost:8080/"
        },
        "outputId": "9829e3c1-d08a-4bfa-ddad-ba76b70f624d"
      },
      "source": [
        "print(metrics.confusion_matrix(y_test, y_pred))"
      ],
      "execution_count": 48,
      "outputs": [
        {
          "output_type": "stream",
          "text": [
            "[[877  16]\n",
            " [315 311]]\n"
          ],
          "name": "stdout"
        }
      ]
    },
    {
      "cell_type": "code",
      "metadata": {
        "id": "6TpQrOlDAWN2",
        "colab": {
          "base_uri": "https://localhost:8080/"
        },
        "outputId": "f84fd7f8-93f6-4096-d1ef-160c0ef65ed5"
      },
      "source": [
        "print(metrics.classification_report(y_test, y_pred))"
      ],
      "execution_count": 49,
      "outputs": [
        {
          "output_type": "stream",
          "text": [
            "              precision    recall  f1-score   support\n",
            "\n",
            "         0.0       0.74      0.98      0.84       893\n",
            "         1.0       0.95      0.50      0.65       626\n",
            "\n",
            "    accuracy                           0.78      1519\n",
            "   macro avg       0.84      0.74      0.75      1519\n",
            "weighted avg       0.82      0.78      0.76      1519\n",
            "\n"
          ],
          "name": "stdout"
        }
      ]
    },
    {
      "cell_type": "code",
      "metadata": {
        "id": "mN-fmZwUBmPv",
        "colab": {
          "base_uri": "https://localhost:8080/"
        },
        "outputId": "35d929c2-2230-4762-c37d-4faa36502faa"
      },
      "source": [
        "clf = svm.SVC(kernel = \"poly\", degree=2)\n",
        "\n",
        "start_time = time.time()\n",
        "\n",
        "res = np.mean(model_selection.cross_val_score(clf, w, label, cv = 10))\n",
        "\n",
        "print(\"10 way cross validation time:\", time.time() - start_time,\"seconds; Result =\", res)"
      ],
      "execution_count": 50,
      "outputs": [
        {
          "output_type": "stream",
          "text": [
            "10 way cross validation time: 8.11764121055603 seconds; Result = 0.8078756012449307\n"
          ],
          "name": "stdout"
        }
      ]
    },
    {
      "cell_type": "markdown",
      "metadata": {
        "id": "KeTvALafGSwe"
      },
      "source": [
        "## RBF"
      ]
    },
    {
      "cell_type": "code",
      "metadata": {
        "id": "DkIbXjtRAIJR",
        "colab": {
          "base_uri": "https://localhost:8080/"
        },
        "outputId": "a8d81991-1a3e-450a-802a-0d5ce482781d"
      },
      "source": [
        "X_train, X_test, y_train, y_test = model_selection.train_test_split(w, label, test_size = 0.33, random_state = 2)\n",
        "clf = svm.SVC(kernel = \"rbf\")\n",
        "\n",
        "start_time = time.time()\n",
        "\n",
        "clf.fit(X_train, y_train)\n",
        "y_pred = clf.predict(X_test)\n",
        "\n",
        "print(\"Single model and single prediction time:\", time.time() - start_time,\"seconds\")"
      ],
      "execution_count": 51,
      "outputs": [
        {
          "output_type": "stream",
          "text": [
            "Single model and single prediction time: 0.44659996032714844 seconds\n"
          ],
          "name": "stdout"
        }
      ]
    },
    {
      "cell_type": "code",
      "metadata": {
        "id": "vdTide6hAIJS",
        "colab": {
          "base_uri": "https://localhost:8080/"
        },
        "outputId": "c44b6852-7837-439c-835d-1e31716ae9aa"
      },
      "source": [
        "print(metrics.confusion_matrix(y_test, y_pred))"
      ],
      "execution_count": 52,
      "outputs": [
        {
          "output_type": "stream",
          "text": [
            "[[855  38]\n",
            " [ 98 528]]\n"
          ],
          "name": "stdout"
        }
      ]
    },
    {
      "cell_type": "code",
      "metadata": {
        "id": "IYaqkJmcAIJS",
        "colab": {
          "base_uri": "https://localhost:8080/"
        },
        "outputId": "a2474cc7-b2da-4343-e614-400384953779"
      },
      "source": [
        "print(metrics.classification_report(y_test, y_pred))"
      ],
      "execution_count": 53,
      "outputs": [
        {
          "output_type": "stream",
          "text": [
            "              precision    recall  f1-score   support\n",
            "\n",
            "         0.0       0.90      0.96      0.93       893\n",
            "         1.0       0.93      0.84      0.89       626\n",
            "\n",
            "    accuracy                           0.91      1519\n",
            "   macro avg       0.92      0.90      0.91      1519\n",
            "weighted avg       0.91      0.91      0.91      1519\n",
            "\n"
          ],
          "name": "stdout"
        }
      ]
    },
    {
      "cell_type": "code",
      "metadata": {
        "id": "0Z4iHV2jBnq-",
        "colab": {
          "base_uri": "https://localhost:8080/"
        },
        "outputId": "fc06f4de-2c1c-4547-a237-95b9428ec44e"
      },
      "source": [
        "clf = svm.SVC(kernel = \"rbf\")\n",
        "\n",
        "start_time = time.time()\n",
        "\n",
        "res = np.mean(model_selection.cross_val_score(clf, w, label, cv = 10))\n",
        "\n",
        "print(\"10 way cross validation time:\", time.time() - start_time,\"seconds; Result =\", res)"
      ],
      "execution_count": 54,
      "outputs": [
        {
          "output_type": "stream",
          "text": [
            "10 way cross validation time: 5.929286956787109 seconds; Result = 0.9152324813731962\n"
          ],
          "name": "stdout"
        }
      ]
    },
    {
      "cell_type": "code",
      "metadata": {
        "id": "9XhpFZNRC1Z6"
      },
      "source": [
        "#Exploring C parameter as explained in https://scikit-learn.org/stable/modules/svm.html#parameters-of-the-rbf-kernel\n",
        "#res = []\n",
        "#for i in range(1, 200):\n",
        "#  clf = svm.SVC(kernel = \"rbf\", C = i) #gamma leaved to default, because we will perform cross validation\n",
        "#  res.append((i, np.mean(model_selection.cross_val_score(clf, w, label, cv = 10))))\n",
        "\n",
        "#res.sort(key=lambda tup: tup[1])\n",
        "#print('Best score:', res[-1][1], ', with best parameter C:', res[-1][0])\n",
        "#Best score: 0.9317504479864189 , with best parameter C: 170"
      ],
      "execution_count": 55,
      "outputs": []
    },
    {
      "cell_type": "markdown",
      "metadata": {
        "id": "dqyrd_nSGFhK"
      },
      "source": [
        "# NAIVE BAYES"
      ]
    },
    {
      "cell_type": "code",
      "metadata": {
        "id": "emkzZBj5EE1v"
      },
      "source": [
        "#Computation of alpha, mu and sigma^2\n",
        "def naive_train(X_train, y_train):\n",
        "  alpha = np.zeros(2)\n",
        "  mu = np.zeros((2, len(X_train[0])))\n",
        "  sigma2 = np.zeros((2, len(X_train[0])))\n",
        "\n",
        "  for i in range(len(X_train)):\n",
        "    alpha[ int(y_train[i]) ] += 1\n",
        "    mu[ int(y_train[i]) ][ X_train[i] > 0 ] += 1\n",
        "\n",
        "  alpha = alpha / N\n",
        "\n",
        "  mu[0] = mu[0] / N\n",
        "  mu[1] = mu[1] / N\n",
        "\n",
        "  sigma2[0] = mu[0] - mu[0]**2\n",
        "  sigma2[1] = mu[1] - mu[1]**2\n",
        "  \n",
        "  return alpha, mu, sigma2"
      ],
      "execution_count": 56,
      "outputs": []
    },
    {
      "cell_type": "code",
      "metadata": {
        "id": "5g7TLUzmIhHl"
      },
      "source": [
        "def guassian(test_row, mu, sigma2, k):\n",
        "  res = 1\n",
        "\n",
        "  for i in range(len(test_row)):\n",
        "    res *= ( 2*math.pi*sigma2[k][i] ) ** (-1/2) * math.exp(-( 1 / (2*sigma2[k][i]) ) * (  int(test_row[i] > 0) - mu[k][i]) ** 2 )\n",
        "    \n",
        "  return res\n",
        "\n",
        "def naive_bayes_clf(X_test, mu, sigma2, alpha):\n",
        "  y_pred = []\n",
        "\n",
        "  for row in X_test:\n",
        "    res = ( guassian(row, mu, sigma2, 1) * alpha[1] ) / ( ( guassian(row, mu, sigma2, 1) * alpha[1] ) + ( guassian(row, mu, sigma2, 0) * alpha[0] ) )\n",
        "    y_pred.append( int( res > 0.5 ) )\n",
        "\n",
        "  return y_pred"
      ],
      "execution_count": 57,
      "outputs": []
    },
    {
      "cell_type": "code",
      "metadata": {
        "id": "0U-ghz-JNUoL",
        "colab": {
          "base_uri": "https://localhost:8080/"
        },
        "outputId": "9146e062-1756-49c4-8895-77116e20352e"
      },
      "source": [
        "X_train, X_test, y_train, y_test = model_selection.train_test_split(w, label, test_size = 0.33, random_state = 2)\n",
        "\n",
        "start_time = time.time()\n",
        "\n",
        "alpha, mu, sigma2 = naive_train(X_train, y_train)\n",
        "y_pred = naive_bayes_clf(X_test, mu, sigma2, alpha)\n",
        "\n",
        "print(\"Single model and single prediction time:\", time.time() - start_time,\"seconds\")"
      ],
      "execution_count": 58,
      "outputs": [
        {
          "output_type": "stream",
          "text": [
            "Single model and single prediction time: 1.1402766704559326 seconds\n"
          ],
          "name": "stdout"
        }
      ]
    },
    {
      "cell_type": "code",
      "metadata": {
        "colab": {
          "base_uri": "https://localhost:8080/"
        },
        "id": "R9jvDDFAQukB",
        "outputId": "94b09b1f-48b3-4eca-87e5-a941d227da5d"
      },
      "source": [
        "print(metrics.confusion_matrix(y_test, y_pred))"
      ],
      "execution_count": 59,
      "outputs": [
        {
          "output_type": "stream",
          "text": [
            "[[693 200]\n",
            " [ 50 576]]\n"
          ],
          "name": "stdout"
        }
      ]
    },
    {
      "cell_type": "code",
      "metadata": {
        "colab": {
          "base_uri": "https://localhost:8080/"
        },
        "id": "beR41ukNRYnE",
        "outputId": "2090ca20-c35a-4786-a60e-2336106277eb"
      },
      "source": [
        "print(metrics.classification_report(y_test, y_pred))"
      ],
      "execution_count": 60,
      "outputs": [
        {
          "output_type": "stream",
          "text": [
            "              precision    recall  f1-score   support\n",
            "\n",
            "         0.0       0.93      0.78      0.85       893\n",
            "         1.0       0.74      0.92      0.82       626\n",
            "\n",
            "    accuracy                           0.84      1519\n",
            "   macro avg       0.84      0.85      0.83      1519\n",
            "weighted avg       0.85      0.84      0.84      1519\n",
            "\n"
          ],
          "name": "stdout"
        }
      ]
    },
    {
      "cell_type": "code",
      "metadata": {
        "colab": {
          "base_uri": "https://localhost:8080/"
        },
        "id": "HIP76BSEXFLJ",
        "outputId": "4a219df3-a1a1-4184-d66e-87f321d7d25d"
      },
      "source": [
        "metrics.accuracy_score(y_test, y_pred)"
      ],
      "execution_count": 61,
      "outputs": [
        {
          "output_type": "execute_result",
          "data": {
            "text/plain": [
              "0.8354180381830152"
            ]
          },
          "metadata": {
            "tags": []
          },
          "execution_count": 61
        }
      ]
    },
    {
      "cell_type": "code",
      "metadata": {
        "id": "ZovsT6ifKF7f"
      },
      "source": [
        "#Cross validation by hand\n",
        "def cross_val(X, y, cv):\n",
        "  res = []\n",
        "  split_X = np.asarray( np.array_split(X, cv) )\n",
        "  split_y = np.asarray( np.array_split(y, cv) )\n",
        "\n",
        "  for i in range(cv):\n",
        "    X_train =  np.concatenate( np.concatenate( (split_X[:i], split_X[i+1:])) )\n",
        "    y_train =  np.concatenate( np.concatenate( (split_y[:i], split_y[i+1:])) )\n",
        "    X_test = split_X[i]\n",
        "    y_test = split_y[i]\n",
        "\n",
        "    alpha, mu, sigma2 = naive_train(X_train, y_train)\n",
        "    y_pred = naive_bayes_clf(X_test, mu, sigma2, alpha)\n",
        "\n",
        "    res.append(metrics.accuracy_score(y_test, y_pred))\n",
        "  \n",
        "  return np.mean(res)"
      ],
      "execution_count": 62,
      "outputs": []
    },
    {
      "cell_type": "code",
      "metadata": {
        "colab": {
          "base_uri": "https://localhost:8080/"
        },
        "id": "a5e0ajKPSlHm",
        "outputId": "3c30e11c-4cde-4427-e26b-5ee287a57c76"
      },
      "source": [
        "start_time = time.time()\n",
        "\n",
        "res = cross_val(w, label, 10)\n",
        "\n",
        "print(\"10 way cross validation time:\", time.time() - start_time,\"seconds; Result =\", res)"
      ],
      "execution_count": 63,
      "outputs": [
        {
          "output_type": "stream",
          "text": [
            "/usr/local/lib/python3.7/dist-packages/numpy/core/_asarray.py:83: VisibleDeprecationWarning: Creating an ndarray from ragged nested sequences (which is a list-or-tuple of lists-or-tuples-or ndarrays with different lengths or shapes) is deprecated. If you meant to do this, you must specify 'dtype=object' when creating the ndarray\n",
            "  return array(a, dtype, copy=False, order=order)\n",
            "/usr/local/lib/python3.7/dist-packages/ipykernel_launcher.py:5: RuntimeWarning: divide by zero encountered in double_scalars\n",
            "  \"\"\"\n",
            "/usr/local/lib/python3.7/dist-packages/ipykernel_launcher.py:5: RuntimeWarning: invalid value encountered in double_scalars\n",
            "  \"\"\"\n"
          ],
          "name": "stderr"
        },
        {
          "output_type": "stream",
          "text": [
            "10 way cross validation time: 3.7239487171173096 seconds; Result = 0.732196548146751\n"
          ],
          "name": "stdout"
        }
      ]
    },
    {
      "cell_type": "code",
      "metadata": {
        "colab": {
          "base_uri": "https://localhost:8080/"
        },
        "id": "MX0bBvsUWz68",
        "outputId": "e1816e4d-8054-4243-a8fa-3b8d1d969f24"
      },
      "source": [
        "#Sklearn classifier to compare results\n",
        "from sklearn.naive_bayes import GaussianNB\n",
        "\n",
        "X_train, X_test, y_train, y_test = model_selection.train_test_split(w, label, test_size = 0.33, random_state = 2)\n",
        "clf = GaussianNB()\n",
        "\n",
        "start_time = time.time()\n",
        "\n",
        "clf.fit(X_train, y_train)\n",
        "y_pred = clf.predict(X_test)\n",
        "\n",
        "print(\"Single model and single prediction time:\", time.time() - start_time,\"seconds\")\n",
        "\n",
        "print(metrics.confusion_matrix(y_test, y_pred))"
      ],
      "execution_count": 64,
      "outputs": [
        {
          "output_type": "stream",
          "text": [
            "Single model and single prediction time: 0.008376121520996094 seconds\n",
            "[[642 251]\n",
            " [ 28 598]]\n"
          ],
          "name": "stdout"
        }
      ]
    },
    {
      "cell_type": "code",
      "metadata": {
        "colab": {
          "base_uri": "https://localhost:8080/"
        },
        "id": "qYFIv4WSXB_p",
        "outputId": "3793dece-5dcb-45f9-8683-085405fe93c9"
      },
      "source": [
        "print(metrics.classification_report(y_test, y_pred))"
      ],
      "execution_count": 65,
      "outputs": [
        {
          "output_type": "stream",
          "text": [
            "              precision    recall  f1-score   support\n",
            "\n",
            "         0.0       0.96      0.72      0.82       893\n",
            "         1.0       0.70      0.96      0.81       626\n",
            "\n",
            "    accuracy                           0.82      1519\n",
            "   macro avg       0.83      0.84      0.82      1519\n",
            "weighted avg       0.85      0.82      0.82      1519\n",
            "\n"
          ],
          "name": "stdout"
        }
      ]
    },
    {
      "cell_type": "code",
      "metadata": {
        "colab": {
          "base_uri": "https://localhost:8080/"
        },
        "id": "34LpfL1HYyv_",
        "outputId": "1c29dd7b-9bd9-4530-bc8b-57dee92c3a61"
      },
      "source": [
        "clf = GaussianNB()\n",
        "\n",
        "start_time = time.time()\n",
        "\n",
        "res = np.mean(model_selection.cross_val_score(clf, w, label, cv = 10))\n",
        "\n",
        "print(\"10 way cross validation time:\", time.time() - start_time,\"seconds; Result =\", res)"
      ],
      "execution_count": 66,
      "outputs": [
        {
          "output_type": "stream",
          "text": [
            "10 way cross validation time: 0.0792992115020752 seconds; Result = 0.8150348957842122\n"
          ],
          "name": "stdout"
        }
      ]
    },
    {
      "cell_type": "markdown",
      "metadata": {
        "id": "BJpmtlXRGaJw"
      },
      "source": [
        "# KNN"
      ]
    },
    {
      "cell_type": "markdown",
      "metadata": {
        "id": "Esh6kyy8GDnD"
      },
      "source": [
        "## OUR KNN"
      ]
    },
    {
      "cell_type": "code",
      "metadata": {
        "id": "S9GxjmuQ-rU1",
        "colab": {
          "base_uri": "https://localhost:8080/"
        },
        "outputId": "19b2e420-23f2-41a4-d5ba-0af774cf5380"
      },
      "source": [
        "from sklearn import neighbors\n",
        "\n",
        "X_train, X_test, y_train, y_test = model_selection.train_test_split(w, label, test_size = 0.33, random_state = 2)\n",
        "clf = neighbors.KNeighborsClassifier(5)\n",
        "\n",
        "start_time = time.time()\n",
        "\n",
        "clf.fit(X_train, y_train)\n",
        "y_pred = clf.predict(X_test)\n",
        "\n",
        "print(\"Single model and single prediction time:\", time.time() - start_time,\"seconds\")"
      ],
      "execution_count": 67,
      "outputs": [
        {
          "output_type": "stream",
          "text": [
            "Single model and single prediction time: 0.4572277069091797 seconds\n"
          ],
          "name": "stdout"
        }
      ]
    },
    {
      "cell_type": "code",
      "metadata": {
        "colab": {
          "base_uri": "https://localhost:8080/"
        },
        "id": "JuyTjr40AJ0n",
        "outputId": "985a1c8f-997c-422b-d479-8418e3bc2f59"
      },
      "source": [
        "print(metrics.confusion_matrix(y_test, y_pred))"
      ],
      "execution_count": 68,
      "outputs": [
        {
          "output_type": "stream",
          "text": [
            "[[845  48]\n",
            " [ 79 547]]\n"
          ],
          "name": "stdout"
        }
      ]
    },
    {
      "cell_type": "code",
      "metadata": {
        "colab": {
          "base_uri": "https://localhost:8080/"
        },
        "id": "DWQvX2bq_ouQ",
        "outputId": "c6d3e771-3194-4757-9667-0a8ffb3cdf61"
      },
      "source": [
        "print(metrics.classification_report(y_test, y_pred))"
      ],
      "execution_count": 69,
      "outputs": [
        {
          "output_type": "stream",
          "text": [
            "              precision    recall  f1-score   support\n",
            "\n",
            "         0.0       0.91      0.95      0.93       893\n",
            "         1.0       0.92      0.87      0.90       626\n",
            "\n",
            "    accuracy                           0.92      1519\n",
            "   macro avg       0.92      0.91      0.91      1519\n",
            "weighted avg       0.92      0.92      0.92      1519\n",
            "\n"
          ],
          "name": "stdout"
        }
      ]
    },
    {
      "cell_type": "code",
      "metadata": {
        "colab": {
          "base_uri": "https://localhost:8080/"
        },
        "id": "kEzRVfWEBHuO",
        "outputId": "5d7d8d76-5137-4f13-dfef-5bcf4a68c025"
      },
      "source": [
        "clf = neighbors.KNeighborsClassifier(5)\n",
        "\n",
        "start_time = time.time()\n",
        "\n",
        "np.mean(model_selection.cross_val_score(clf, w, label, cv = 10))\n",
        "\n",
        "print(\"10 way cross validation time:\", time.time() - start_time,\"seconds; Result =\", res)"
      ],
      "execution_count": 70,
      "outputs": [
        {
          "output_type": "stream",
          "text": [
            "10 way cross validation time: 1.9820098876953125 seconds; Result = 0.8150348957842122\n"
          ],
          "name": "stdout"
        }
      ]
    },
    {
      "cell_type": "markdown",
      "metadata": {
        "id": "zjUIQrPTF8yY"
      },
      "source": [
        "## KNN BY HAND"
      ]
    },
    {
      "cell_type": "code",
      "metadata": {
        "id": "tP0zNWzSACEm"
      },
      "source": [
        "from math import sqrt\n",
        " \n",
        "# Locate the most similar neighbors\n",
        "def get_neighbors(train, test_row, k):\n",
        "  distances = []\n",
        "\n",
        "  for train_row in train:\n",
        "\n",
        "    dist = sqrt(  np.sum( (test_row - train_row[:-1]) ** 2 ) ) #euclidean_distance\n",
        "\n",
        "    if len(distances) < 5:\n",
        "      distances.append((train_row, dist))\n",
        "      \n",
        "      if len == 5:\n",
        "        distances.sort(key=lambda tup: tup[1])\n",
        "\n",
        "    else:\n",
        "      if dist < distances[-1][1]:\n",
        "        distances[-1] = (train_row, dist)\n",
        "        distances.sort(key=lambda tup: tup[1])\n",
        "\n",
        "  neighbors = []\n",
        "\n",
        "  for i in range(k):\n",
        "    neighbors.append(distances[i][0])\n",
        "  \n",
        "  return neighbors\n",
        "\n",
        "# Make a classification prediction with neighbors\n",
        "def predict_classification(train, test_row, k):\n",
        "  neighbors = get_neighbors(train, test_row, k)\n",
        "\n",
        "  output_values = [row[-1] for row in neighbors]\n",
        "  prediction = max(set(output_values), key=output_values.count)\n",
        "\n",
        "  return prediction\n",
        "\n",
        "def test_kNN(X_train, X_test, y_train, k):\n",
        "  y_pred = []\n",
        "  train = np.concatenate((np.asarray(X_train), np.asarray([y_train]).T), axis=1)\n",
        "\n",
        "  for test_row in X_test:\n",
        "    y_pred.append(predict_classification(train, test_row, k))\n",
        "  \n",
        "  return y_pred"
      ],
      "execution_count": 137,
      "outputs": []
    },
    {
      "cell_type": "code",
      "metadata": {
        "colab": {
          "base_uri": "https://localhost:8080/"
        },
        "id": "lDcVYzON-bRm",
        "outputId": "0f249e63-4f2b-40a6-bbfd-df261ed67152"
      },
      "source": [
        "X_train, X_test, y_train, y_test = model_selection.train_test_split(w, label, test_size = 0.33, random_state = 2)\n",
        "\n",
        "start_time = time.time()\n",
        "\n",
        "y_pred = test_kNN(X_train, X_test, y_train, 5)\n",
        "\n",
        "print(\"Single model and single prediction time:\", time.time() - start_time,\"seconds\")\n",
        "print(metrics.confusion_matrix(y_test, y_pred))"
      ],
      "execution_count": 138,
      "outputs": [
        {
          "output_type": "stream",
          "text": [
            "Single model and single prediction time: 44.87992334365845 seconds\n",
            "[[845  48]\n",
            " [ 79 547]]\n"
          ],
          "name": "stdout"
        }
      ]
    },
    {
      "cell_type": "code",
      "metadata": {
        "colab": {
          "base_uri": "https://localhost:8080/"
        },
        "id": "VsSXbg9jACEo",
        "outputId": "ecdf8325-4688-450b-ab80-7c68d03488a6"
      },
      "source": [
        "print(metrics.classification_report(y_test, y_pred))"
      ],
      "execution_count": 139,
      "outputs": [
        {
          "output_type": "stream",
          "text": [
            "              precision    recall  f1-score   support\n",
            "\n",
            "         0.0       0.91      0.95      0.93       893\n",
            "         1.0       0.92      0.87      0.90       626\n",
            "\n",
            "    accuracy                           0.92      1519\n",
            "   macro avg       0.92      0.91      0.91      1519\n",
            "weighted avg       0.92      0.92      0.92      1519\n",
            "\n"
          ],
          "name": "stdout"
        }
      ]
    },
    {
      "cell_type": "code",
      "metadata": {
        "id": "Jr6IwtgN7C7m"
      },
      "source": [
        "#Cross validation by hand\n",
        "def cross_val(X, y, cv, k):\n",
        "  res = []\n",
        "  split_X = np.asarray( np.array_split(X, cv) )\n",
        "  split_y = np.asarray( np.array_split(y, cv) )\n",
        "\n",
        "  for i in range(cv):\n",
        "    X_train =  np.concatenate( np.concatenate( (split_X[:i], split_X[i+1:])) )\n",
        "    y_train =  np.concatenate( np.concatenate( (split_y[:i], split_y[i+1:])) )\n",
        "    X_test = split_X[i]\n",
        "    y_test = split_y[i]\n",
        "\n",
        "    y_pred = test_kNN(X_train, X_test, y_train, k)\n",
        "\n",
        "    res.append(metrics.accuracy_score(y_test, y_pred))\n",
        "  \n",
        "  return np.mean(res)"
      ],
      "execution_count": 140,
      "outputs": []
    },
    {
      "cell_type": "code",
      "metadata": {
        "colab": {
          "base_uri": "https://localhost:8080/"
        },
        "id": "xVTBfWf77U9f",
        "outputId": "9a01fb17-5ca5-47b9-d9f8-b9126a5308af"
      },
      "source": [
        "start_time = time.time()\n",
        "\n",
        "res = cross_val(w, label, 10, 5)\n",
        "\n",
        "print(\"10 way cross validation time:\", time.time() - start_time,\"seconds; Result =\", res)"
      ],
      "execution_count": 141,
      "outputs": [
        {
          "output_type": "stream",
          "text": [
            "/usr/local/lib/python3.7/dist-packages/numpy/core/_asarray.py:83: VisibleDeprecationWarning: Creating an ndarray from ragged nested sequences (which is a list-or-tuple of lists-or-tuples-or ndarrays with different lengths or shapes) is deprecated. If you meant to do this, you must specify 'dtype=object' when creating the ndarray\n",
            "  return array(a, dtype, copy=False, order=order)\n"
          ],
          "name": "stderr"
        },
        {
          "output_type": "stream",
          "text": [
            "10 way cross validation time: 182.7124650478363 seconds; Result = 0.8628666415165519\n"
          ],
          "name": "stdout"
        }
      ]
    }
  ]
}